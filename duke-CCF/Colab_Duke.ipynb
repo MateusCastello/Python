{
  "nbformat": 4,
  "nbformat_minor": 0,
  "metadata": {
    "colab": {
      "name": "Colab Duke.ipynb",
      "provenance": [],
      "authorship_tag": "ABX9TyMhP6XAk7MMe9sEUDM3/Yl5",
      "include_colab_link": true
    },
    "kernelspec": {
      "name": "python3",
      "display_name": "Python 3"
    },
    "language_info": {
      "name": "python"
    }
  },
  "cells": [
    {
      "cell_type": "markdown",
      "metadata": {
        "id": "view-in-github",
        "colab_type": "text"
      },
      "source": [
        "<a href=\"https://colab.research.google.com/github/MateusCastello/Python/blob/main/duke-CCF/Colab_Duke.ipynb\" target=\"_parent\"><img src=\"https://colab.research.google.com/assets/colab-badge.svg\" alt=\"Open In Colab\"/></a>"
      ]
    },
    {
      "cell_type": "markdown",
      "metadata": {
        "id": "9WIKmeinJ9PN"
      },
      "source": [
        "##Este é um teste\n",
        "\n",
        "Teste de commit direto para o Github via Colaboratory "
      ]
    },
    {
      "cell_type": "code",
      "metadata": {
        "colab": {
          "base_uri": "https://localhost:8080/"
        },
        "id": "EPkUzy9KJ7Ho",
        "outputId": "f3f7ecda-d4dc-4511-c5c6-30c07cf0e2ea"
      },
      "source": [
        "def hello():\n",
        "  print(\"Hello world!\")\n",
        "\n",
        "hello()"
      ],
      "execution_count": null,
      "outputs": [
        {
          "output_type": "stream",
          "text": [
            "Hello world!\n"
          ],
          "name": "stdout"
        }
      ]
    },
    {
      "cell_type": "markdown",
      "metadata": {
        "id": "WkCPC25uQjkY"
      },
      "source": [
        "Estas versões são um pouco mais complicadas de atualizar via Colab"
      ]
    }
  ]
}